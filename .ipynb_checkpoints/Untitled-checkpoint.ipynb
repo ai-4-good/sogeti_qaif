{
 "cells": [
  {
   "cell_type": "code",
   "execution_count": 8,
   "id": "8de45b3c",
   "metadata": {},
   "outputs": [
    {
     "name": "stderr",
     "output_type": "stream",
     "text": [
      "INFO:gensim.models.keyedvectors:loading projection weights from C:\\Users\\tnikolic/gensim-data\\word2vec-google-news-300\\word2vec-google-news-300.gz\n",
      "DEBUG:smart_open.smart_open_lib:{'uri': 'C:\\\\Users\\\\tnikolic/gensim-data\\\\word2vec-google-news-300\\\\word2vec-google-news-300.gz', 'mode': 'rb', 'buffering': -1, 'encoding': None, 'errors': None, 'newline': None, 'closefd': True, 'opener': None, 'ignore_ext': False, 'compression': None, 'transport_params': None}\n",
      "DEBUG:gensim.utils:starting a new internal lifecycle event log for KeyedVectors\n",
      "INFO:gensim.utils:KeyedVectors lifecycle event {'msg': 'loaded (3000000, 300) matrix of type float32 from C:\\\\Users\\\\tnikolic/gensim-data\\\\word2vec-google-news-300\\\\word2vec-google-news-300.gz', 'binary': True, 'encoding': 'utf8', 'datetime': '2021-09-01T16:53:38.561787', 'gensim': '4.1.0', 'python': '3.8.5 (tags/v3.8.5:580fbb0, Jul 20 2020, 15:57:54) [MSC v.1924 64 bit (AMD64)]', 'platform': 'Windows-10-10.0.19041-SP0', 'event': 'load_word2vec_format'}\n"
     ]
    },
    {
     "name": "stdout",
     "output_type": "stream",
     "text": [
      "1\n",
      "2\n",
      "3\n",
      "4\n",
      "5\n"
     ]
    }
   ],
   "source": [
    "from wefe import WordEmbeddingModel, Query, WEAT\n",
    "import gensim.downloader as api\n",
    "\n",
    "\n",
    "v2v =  api.load('word2vec-google-news-300')\n",
    "v2v_emb = WordEmbeddingModel('word2vec-google-news-300')\n",
    "\n",
    "print('1')\n",
    "\n",
    "# target sets\n",
    "male_names = ['John', 'Paul', 'Mike', 'Kevin', 'Steve', 'Greg', 'Jeff', 'Bill']\n",
    "female_names = ['Amy', 'Joan', 'Lisa', 'Sarah', 'Diana', 'Kate', 'Ann', 'Donna']\n",
    "\n",
    "print('2')\n",
    "\n",
    "#attribute sets\n",
    "career = ['executive', 'management', 'professional', 'corporation', \n",
    "         'salary', 'office', 'business', 'career']\n",
    "family = ['home', 'parents', 'children', 'family', 'cousins', 'marriage',\n",
    "         'wedding', 'relatives']\n",
    "\n",
    "print('3')\n",
    "\n",
    "gender_occupation_query = Query([male_names, female_names],\n",
    "                                [career, family],\n",
    "                                ['Male names', 'Female names'],\n",
    "                                ['Career', 'Family'])\n",
    "\n",
    "print('4')\n",
    "\n",
    "weat = WEAT()\n",
    "\n",
    "print('5')\n",
    "\n",
    "results = weat.run_query(gender_occupation_query, glove_twitter)"
   ]
  },
  {
   "cell_type": "code",
   "execution_count": 9,
   "id": "6fc84ba2",
   "metadata": {},
   "outputs": [
    {
     "data": {
      "text/plain": [
       "{'query_name': 'Male names and Female names wrt Career and Family',\n",
       " 'result': 1.25161,\n",
       " 'weat': 1.25161,\n",
       " 'effect_size': 1.9518473,\n",
       " 'p_value': nan}"
      ]
     },
     "execution_count": 9,
     "metadata": {},
     "output_type": "execute_result"
    }
   ],
   "source": [
    "results"
   ]
  },
  {
   "cell_type": "code",
   "execution_count": 15,
   "id": "4c50b11d",
   "metadata": {},
   "outputs": [
    {
     "ename": "AttributeError",
     "evalue": "'WordEmbeddingModel' object has no attribute 'save'",
     "output_type": "error",
     "traceback": [
      "\u001b[1;31m---------------------------------------------------------------------------\u001b[0m",
      "\u001b[1;31mAttributeError\u001b[0m                            Traceback (most recent call last)",
      "\u001b[1;32m~\\AppData\\Local\\Temp/ipykernel_9716/3011695401.py\u001b[0m in \u001b[0;36m<module>\u001b[1;34m\u001b[0m\n\u001b[1;32m----> 1\u001b[1;33m \u001b[0mglove_twitter\u001b[0m\u001b[1;33m.\u001b[0m\u001b[0msave\u001b[0m\u001b[1;33m(\u001b[0m\u001b[1;34m'word2vec_google_news'\u001b[0m\u001b[1;33m)\u001b[0m\u001b[1;33m\u001b[0m\u001b[1;33m\u001b[0m\u001b[0m\n\u001b[0m",
      "\u001b[1;31mAttributeError\u001b[0m: 'WordEmbeddingModel' object has no attribute 'save'"
     ]
    }
   ],
   "source": [
    "glove_twitter.save('word2vec_google_news')"
   ]
  },
  {
   "cell_type": "code",
   "execution_count": null,
   "id": "a96994fa",
   "metadata": {},
   "outputs": [],
   "source": []
  }
 ],
 "metadata": {
  "kernelspec": {
   "display_name": "Python 3 (ipykernel)",
   "language": "python",
   "name": "python3"
  },
  "language_info": {
   "codemirror_mode": {
    "name": "ipython",
    "version": 3
   },
   "file_extension": ".py",
   "mimetype": "text/x-python",
   "name": "python",
   "nbconvert_exporter": "python",
   "pygments_lexer": "ipython3",
   "version": "3.8.5"
  }
 },
 "nbformat": 4,
 "nbformat_minor": 5
}
